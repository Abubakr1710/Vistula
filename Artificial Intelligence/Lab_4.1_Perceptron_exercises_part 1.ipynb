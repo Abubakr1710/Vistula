{
 "cells": [
  {
   "cell_type": "markdown",
   "metadata": {},
   "source": [
    "<div style=\"font-size: 14pt;\">Prof. Krzysztof Rybinski</div><br/><br/>\n",
    "<div style=\"font-size: 22pt;\"><b>Artificial Intelligence course</b></div><br/><br/>\n",
    "<div style=\"font-size: 18pt;\">LAB 4.1</div><br/>\n",
    "<div style=\"font-size: 18pt;\">- Perceptron in Python</div><br/>\n",
    "<div style=\"font-size: 18pt;\">- Logistic regression as perceptron + sigmoid</div><br/>\n",
    "<div style=\"font-size: 18pt;\">- Gradient descent for logistic regression </div><br/>\n",
    "<div style=\"font-size: 18pt;\">- Training logistic regression as NN</div><br/>\n",
    "<div style=\"font-size: 18pt;\">- Training with batches - SGD</div><br/>\n"
   ]
  },
  {
   "cell_type": "code",
   "execution_count": null,
   "metadata": {
    "ExecuteTime": {
     "end_time": "2018-05-07T17:00:09.056094Z",
     "start_time": "2018-05-07T17:00:08.737715Z"
    }
   },
   "outputs": [],
   "source": [
    "import numpy as np\n",
    "import matplotlib.pyplot as plt\n",
    "import sklearn"
   ]
  },
  {
   "cell_type": "markdown",
   "metadata": {},
   "source": [
    "# Dataset"
   ]
  },
  {
   "cell_type": "code",
   "execution_count": null,
   "metadata": {
    "ExecuteTime": {
     "end_time": "2018-05-07T17:00:09.475819Z",
     "start_time": "2018-05-07T17:00:09.058506Z"
    }
   },
   "outputs": [],
   "source": [
    "from sklearn import datasets\n",
    "\n",
    "m, n = 200, 2\n",
    "\n",
    "X, y = datasets.make_classification(n_samples=m, n_features=n, n_informative=2, n_redundant = 0, random_state=1234)\n",
    "\n",
    "X = np.reshape( X, (m,n) )\n",
    "y = np.reshape( y, (m,1) )"
   ]
  },
  {
   "cell_type": "code",
   "execution_count": null,
   "metadata": {},
   "outputs": [],
   "source": [
    "(X.shape, y.shape)"
   ]
  },
  {
   "cell_type": "code",
   "execution_count": null,
   "metadata": {
    "ExecuteTime": {
     "end_time": "2018-05-07T17:00:09.475819Z",
     "start_time": "2018-05-07T17:00:09.058506Z"
    }
   },
   "outputs": [],
   "source": [
    "print('X.shape =', X.shape, '\\ny.shape =', y.shape )\n",
    "ind0 = np.where(y==0)\n",
    "ind1 = np.where(y==1)\n",
    "plt.scatter( X[ind0,0], X[ind0,1], color='b' )\n",
    "plt.scatter( X[ind1,0], X[ind1,1], color='r' )\n",
    "print(\"\\nblue = class 0,   red = class 1 \")\n",
    "plt.show()"
   ]
  },
  {
   "cell_type": "markdown",
   "metadata": {},
   "source": [
    "# Perceptron"
   ]
  },
  {
   "cell_type": "markdown",
   "metadata": {},
   "source": [
    "<img width=\"60%\" style=\"float: right;\" src=\"https://upload.wikimedia.org/wikipedia/commons/8/8c/Perceptron_moj.png\">\n",
    "Program perceptron and learning"
   ]
  },
  {
   "cell_type": "code",
   "execution_count": null,
   "metadata": {
    "ExecuteTime": {
     "end_time": "2018-05-07T17:00:09.485926Z",
     "start_time": "2018-05-07T17:00:09.478526Z"
    }
   },
   "outputs": [],
   "source": [
    "# Exercise 1: initialize random parameters: W, b\n",
    "\n",
    "np.random.seed(123456)\n",
    "\n",
    "W = np.random.randn(2, 1)\n",
    "b = np.random.randn(1)\n",
    "\n",
    "print('Weights: \\n', W)\n",
    "print()\n",
    "print('bias: ', b)"
   ]
  },
  {
   "cell_type": "code",
   "execution_count": null,
   "metadata": {},
   "outputs": [],
   "source": [
    "logits = X.dot(W) + b"
   ]
  },
  {
   "cell_type": "code",
   "execution_count": null,
   "metadata": {},
   "outputs": [],
   "source": [
    "logits.shape"
   ]
  },
  {
   "cell_type": "code",
   "execution_count": null,
   "metadata": {},
   "outputs": [],
   "source": [
    "(np.where(logits >= 0, 1 , 0)).reshape([-1,20])"
   ]
  },
  {
   "cell_type": "markdown",
   "metadata": {
    "ExecuteTime": {
     "end_time": "2018-05-07T17:00:09.491898Z",
     "start_time": "2018-05-07T17:00:09.488075Z"
    }
   },
   "source": [
    "# Compute logits\n",
    "logits = X.dot(W) + b          #  logits = X*W + b"
   ]
  },
  {
   "cell_type": "code",
   "execution_count": null,
   "metadata": {
    "ExecuteTime": {
     "end_time": "2018-05-07T17:00:09.497646Z",
     "start_time": "2018-05-07T17:00:09.494224Z"
    }
   },
   "outputs": [],
   "source": [
    "#Compute predictions\n",
    "pred = np.where(logits >=0, 1, 0)"
   ]
  },
  {
   "cell_type": "code",
   "execution_count": null,
   "metadata": {
    "ExecuteTime": {
     "end_time": "2018-05-07T17:00:09.504315Z",
     "start_time": "2018-05-07T17:00:09.499794Z"
    }
   },
   "outputs": [],
   "source": [
    "#Compute score\n",
    "np.sum(pred == y) / m"
   ]
  },
  {
   "cell_type": "markdown",
   "metadata": {},
   "source": [
    "# Logistic regression = perceptron + sigmoid"
   ]
  },
  {
   "cell_type": "code",
   "execution_count": null,
   "metadata": {
    "ExecuteTime": {
     "end_time": "2018-05-07T17:00:09.512041Z",
     "start_time": "2018-05-07T17:00:09.506612Z"
    }
   },
   "outputs": [],
   "source": [
    "#Define sigmoid function\n",
    "def sigmoid(z):\n",
    "    return   1/(1+np.exp(-z))"
   ]
  },
  {
   "cell_type": "code",
   "execution_count": null,
   "metadata": {},
   "outputs": [],
   "source": [
    "sigmoid(0), sigmoid(0.5), sigmoid(1), sigmoid(1000000), sigmoid(-10)"
   ]
  },
  {
   "cell_type": "code",
   "execution_count": null,
   "metadata": {
    "ExecuteTime": {
     "end_time": "2018-05-07T17:00:09.524090Z",
     "start_time": "2018-05-07T17:00:09.514469Z"
    }
   },
   "outputs": [],
   "source": [
    "# first 5 probabilites:\n",
    "pred = sigmoid(logits)\n",
    "pred[:5]"
   ]
  },
  {
   "cell_type": "code",
   "execution_count": null,
   "metadata": {
    "ExecuteTime": {
     "end_time": "2018-05-07T17:00:09.531873Z",
     "start_time": "2018-05-07T17:00:09.526532Z"
    }
   },
   "outputs": [],
   "source": [
    "#Define loss function\n",
    "# binary cross-entropy loss, a = sigmoid(logit), y-labels\n",
    "def loss( a, y ):\n",
    "    return np.mean(-y*np.log(a)-(1-y)*np.log(1-a))"
   ]
  },
  {
   "cell_type": "code",
   "execution_count": null,
   "metadata": {
    "ExecuteTime": {
     "end_time": "2018-05-07T17:00:09.538854Z",
     "start_time": "2018-05-07T17:00:09.534347Z"
    }
   },
   "outputs": [],
   "source": [
    "loss(pred, y)"
   ]
  },
  {
   "cell_type": "markdown",
   "metadata": {},
   "source": [
    "## Gradient"
   ]
  },
  {
   "cell_type": "code",
   "execution_count": null,
   "metadata": {
    "ExecuteTime": {
     "end_time": "2018-05-07T17:00:09.546222Z",
     "start_time": "2018-05-07T17:00:09.540973Z"
    }
   },
   "outputs": [],
   "source": [
    "dz = (pred - y) / len(y)\n",
    "dz.shape"
   ]
  },
  {
   "cell_type": "code",
   "execution_count": null,
   "metadata": {
    "ExecuteTime": {
     "end_time": "2018-05-07T17:00:09.546222Z",
     "start_time": "2018-05-07T17:00:09.540973Z"
    }
   },
   "outputs": [],
   "source": [
    "db = np.sum(dz)\n",
    "db.shape"
   ]
  },
  {
   "cell_type": "code",
   "execution_count": null,
   "metadata": {
    "ExecuteTime": {
     "end_time": "2018-05-07T17:00:09.546222Z",
     "start_time": "2018-05-07T17:00:09.540973Z"
    }
   },
   "outputs": [],
   "source": [
    "dW = X.T.dot(dz)\n",
    "dW.shape"
   ]
  },
  {
   "cell_type": "code",
   "execution_count": null,
   "metadata": {
    "ExecuteTime": {
     "end_time": "2018-05-07T17:00:09.553589Z",
     "start_time": "2018-05-07T17:00:09.548077Z"
    }
   },
   "outputs": [],
   "source": [
    "print(dW)\n",
    "print(db)"
   ]
  },
  {
   "cell_type": "markdown",
   "metadata": {},
   "source": [
    "## Gradient checking"
   ]
  },
  {
   "cell_type": "markdown",
   "metadata": {},
   "source": [
    "### Bias"
   ]
  },
  {
   "cell_type": "code",
   "execution_count": null,
   "metadata": {
    "ExecuteTime": {
     "end_time": "2018-05-07T17:00:09.565821Z",
     "start_time": "2018-05-07T17:00:09.555890Z"
    }
   },
   "outputs": [],
   "source": [
    "b_old = b\n",
    "eps = 1.0e-5\n",
    "\n",
    "b = b_old + eps\n",
    "loss_plus = loss(sigmoid(X.dot(W)+b), y)\n",
    "\n",
    "b = b_old - eps\n",
    "loss_minus = loss(sigmoid(X.dot(W)+b), y)\n",
    "\n",
    "b = b_old\n",
    "print((loss_plus-loss_minus)/(2.0*eps))"
   ]
  },
  {
   "cell_type": "code",
   "execution_count": null,
   "metadata": {
    "ExecuteTime": {
     "end_time": "2018-05-07T17:00:09.572234Z",
     "start_time": "2018-05-07T17:00:09.568096Z"
    }
   },
   "outputs": [],
   "source": [
    "db"
   ]
  },
  {
   "cell_type": "markdown",
   "metadata": {},
   "source": [
    "### Weights"
   ]
  },
  {
   "cell_type": "code",
   "execution_count": null,
   "metadata": {
    "ExecuteTime": {
     "end_time": "2018-05-07T17:00:09.591162Z",
     "start_time": "2018-05-07T17:00:09.574149Z"
    }
   },
   "outputs": [],
   "source": [
    "eps = 1.0e-5\n",
    "\n",
    "w_old = W[0,0]\n",
    "W[0,0] = w_old + eps\n",
    "loss_plus = loss( sigmoid(X.dot(W)+b), y )\n",
    "W[0,0] = w_old - eps\n",
    "loss_minus = loss( sigmoid(X.dot(W)+b), y )\n",
    "W[0,0] = w_old\n",
    "print( (loss_plus-loss_minus)/(2.0*eps) )\n",
    "\n",
    "w_old = W[1,0]\n",
    "W[1,0] = w_old + eps\n",
    "loss_plus = loss( sigmoid(X.dot(W)+b), y )\n",
    "W[1,0] = w_old - eps\n",
    "loss_minus = loss( sigmoid(X.dot(W)+b), y )\n",
    "W[1,0] = w_old\n",
    "print( (loss_plus-loss_minus)/(2.0*eps) )"
   ]
  },
  {
   "cell_type": "code",
   "execution_count": null,
   "metadata": {
    "ExecuteTime": {
     "end_time": "2018-05-07T17:00:09.597732Z",
     "start_time": "2018-05-07T17:00:09.593414Z"
    }
   },
   "outputs": [],
   "source": [
    "dW"
   ]
  },
  {
   "cell_type": "markdown",
   "metadata": {},
   "source": [
    "## Gradient descent"
   ]
  },
  {
   "cell_type": "code",
   "execution_count": null,
   "metadata": {
    "ExecuteTime": {
     "end_time": "2018-05-07T17:00:09.603884Z",
     "start_time": "2018-05-07T17:00:09.600034Z"
    }
   },
   "outputs": [],
   "source": [
    "# learning rate\n",
    "alpha = 0.1\n",
    "\n",
    "# gradient descent\n",
    "W -= alpha*dW\n",
    "b -= alpha*db"
   ]
  },
  {
   "cell_type": "code",
   "execution_count": null,
   "metadata": {
    "ExecuteTime": {
     "end_time": "2018-05-07T17:00:09.611219Z",
     "start_time": "2018-05-07T17:00:09.605863Z"
    }
   },
   "outputs": [],
   "source": [
    "# New loss\n",
    "loss(sigmoid( X.dot(W)+b ), y)"
   ]
  },
  {
   "cell_type": "code",
   "execution_count": null,
   "metadata": {},
   "outputs": [],
   "source": [
    "np.mean(np.where(X.dot(W) + b >= 0, 1, 0) ==y)"
   ]
  },
  {
   "cell_type": "markdown",
   "metadata": {},
   "source": [
    "## Training"
   ]
  },
  {
   "cell_type": "code",
   "execution_count": null,
   "metadata": {
    "ExecuteTime": {
     "end_time": "2018-05-07T17:00:09.626820Z",
     "start_time": "2018-05-07T17:00:09.613429Z"
    }
   },
   "outputs": [],
   "source": [
    "np.random.seed( 123456 )\n",
    "\n",
    "W = np.random.randn(2, 1) \n",
    "b = np.random.randn(1)\n",
    "\n",
    "for epoch in range(10000):\n",
    "    \n",
    "    logits = X.dot(W) + b\n",
    "    pred = sigmoid(logits)\n",
    "    dz = dz = (pred - y) / len(y)\n",
    "    \n",
    "    print('Epoch {} : loss = {}'.format( epoch, loss(pred,y)) )\n",
    "    \n",
    "    # compute gradients\n",
    "    db = np.sum(dz)\n",
    "    dW = X.T.dot(dz)\n",
    "    \n",
    "    b -= alpha * db\n",
    "    W -= alpha * dW"
   ]
  },
  {
   "cell_type": "code",
   "execution_count": null,
   "metadata": {
    "ExecuteTime": {
     "end_time": "2018-05-07T17:00:09.634104Z",
     "start_time": "2018-05-07T17:00:09.629286Z"
    }
   },
   "outputs": [],
   "source": [
    "#Compute score\n",
    "np.sum(np.where(X.dot(W)+b >= 0 , 1, 0 ) == y) / m"
   ]
  },
  {
   "cell_type": "code",
   "execution_count": null,
   "metadata": {},
   "outputs": [],
   "source": [
    "np.random.seed( 123456 )\n",
    "\n",
    "W = np.random.randn(2,1)\n",
    "b = np.random.randn(1)\n",
    "\n",
    "alpha = 0.1\n",
    "\n",
    "batch_size = 20\n",
    "for epoch in range(20):\n",
    "    \n",
    "    for i in range(10):\n",
    "        X_batch = X[i*batch_size : (i+1)*batch_size]\n",
    "        y_batch = y[i*batch_size : (i+1)*batch_size]\n",
    "    \n",
    "        pred = sigmoid(X_batch.dot(W) + b)\n",
    "        dz = (pred-y_batch)/len(y_batch)\n",
    "\n",
    "        print('Epoch {} : loss = {}'.format( epoch, loss(pred,y_batch)) )\n",
    "    \n",
    "        # compute gradients\n",
    "        db = np.sum(dz)\n",
    "        dW = X_batch.T.dot(dz)\n",
    "    \n",
    "        b -= alpha * db\n",
    "        W -= alpha * dW"
   ]
  },
  {
   "cell_type": "code",
   "execution_count": null,
   "metadata": {},
   "outputs": [],
   "source": [
    "np.sum(np.where(X.dot(W)+b >= 0 , 1, 0 ) == y) / m"
   ]
  },
  {
   "cell_type": "code",
   "execution_count": null,
   "metadata": {},
   "outputs": [],
   "source": []
  }
 ],
 "metadata": {
  "kernelspec": {
   "display_name": "Python 3 (ipykernel)",
   "language": "python",
   "name": "python3"
  },
  "language_info": {
   "codemirror_mode": {
    "name": "ipython",
    "version": 3
   },
   "file_extension": ".py",
   "mimetype": "text/x-python",
   "name": "python",
   "nbconvert_exporter": "python",
   "pygments_lexer": "ipython3",
   "version": "3.10.4"
  },
  "latex_envs": {
   "LaTeX_envs_menu_present": true,
   "autoclose": false,
   "autocomplete": true,
   "bibliofile": "biblio.bib",
   "cite_by": "apalike",
   "current_citInitial": 1,
   "eqLabelWithNumbers": true,
   "eqNumInitial": 1,
   "hotkeys": {
    "equation": "Ctrl-E",
    "itemize": "Ctrl-I"
   },
   "labels_anchors": false,
   "latex_user_defs": false,
   "report_style_numbering": false,
   "user_envs_cfg": false
  },
  "toc": {
   "nav_menu": {},
   "number_sections": true,
   "sideBar": true,
   "skip_h1_title": false,
   "title_cell": "Table of Contents",
   "title_sidebar": "Contents",
   "toc_cell": false,
   "toc_position": {},
   "toc_section_display": true,
   "toc_window_display": true
  }
 },
 "nbformat": 4,
 "nbformat_minor": 2
}
